{
  "cells": [
    {
      "cell_type": "code",
      "execution_count": 1,
      "metadata": {
        "id": "iYCTpHzWo5Xh"
      },
      "outputs": [],
      "source": [
        "libros = {}\n",
        "usuarios = {'Nombre':'Javier', 'Apellido':'Montero'}"
      ]
    },
    {
      "cell_type": "code",
      "execution_count": null,
      "metadata": {
        "id": "xtqcJwQHpExp"
      },
      "outputs": [],
      "source": [
        "#diccionario[clave] = valor"
      ]
    },
    {
      "cell_type": "code",
      "execution_count": 2,
      "metadata": {
        "id": "XaJ5P_RBpc_Z"
      },
      "outputs": [],
      "source": [
        "libros = {'python facil': 'Arnaldo Pérez Castaño'}"
      ]
    },
    {
      "cell_type": "code",
      "execution_count": 3,
      "metadata": {
        "colab": {
          "base_uri": "https://localhost:8080/"
        },
        "id": "W8hwjE_epsAU",
        "outputId": "41039265-8ec3-41a6-8e4f-aa056aeed6fa"
      },
      "outputs": [
        {
          "data": {
            "text/plain": [
              "{'python facil': 'Arnaldo Pérez Castaño'}"
            ]
          },
          "execution_count": 3,
          "metadata": {},
          "output_type": "execute_result"
        }
      ],
      "source": [
        "libros"
      ]
    },
    {
      "cell_type": "code",
      "execution_count": 4,
      "metadata": {
        "id": "_A9DIDtgpv3g"
      },
      "outputs": [],
      "source": [
        "libros = {'firebase trabajar en la nube': 'jesus tomas'}"
      ]
    },
    {
      "cell_type": "code",
      "execution_count": 5,
      "metadata": {
        "colab": {
          "base_uri": "https://localhost:8080/"
        },
        "id": "738qu8iEp7Jm",
        "outputId": "1227ee2f-2a6a-4ad1-a2f7-c5e1109dccf8"
      },
      "outputs": [
        {
          "data": {
            "text/plain": [
              "{'firebase trabajar en la nube': 'jesus tomas'}"
            ]
          },
          "execution_count": 5,
          "metadata": {},
          "output_type": "execute_result"
        }
      ],
      "source": [
        "libros"
      ]
    },
    {
      "cell_type": "code",
      "execution_count": 6,
      "metadata": {
        "id": "2eDveCFeqDl-"
      },
      "outputs": [],
      "source": [
        "libros['python facil']= 'Arnaldo Pérez Castaño'"
      ]
    },
    {
      "cell_type": "code",
      "execution_count": 7,
      "metadata": {
        "colab": {
          "base_uri": "https://localhost:8080/"
        },
        "id": "hsTPYHxEqM2b",
        "outputId": "985f3918-59b2-4031-ac81-dcb2307cc6c4"
      },
      "outputs": [
        {
          "data": {
            "text/plain": [
              "{'firebase trabajar en la nube': 'jesus tomas',\n",
              " 'python facil': 'Arnaldo Pérez Castaño'}"
            ]
          },
          "execution_count": 7,
          "metadata": {},
          "output_type": "execute_result"
        }
      ],
      "source": [
        "libros"
      ]
    },
    {
      "cell_type": "code",
      "execution_count": 8,
      "metadata": {
        "id": "f1FlikpqqWCy"
      },
      "outputs": [],
      "source": [
        "del libros['python facil']"
      ]
    },
    {
      "cell_type": "code",
      "execution_count": 9,
      "metadata": {
        "colab": {
          "base_uri": "https://localhost:8080/"
        },
        "id": "x7OJYrI1qae1",
        "outputId": "abf69224-3b4f-4252-b853-f11e471ee40d"
      },
      "outputs": [
        {
          "data": {
            "text/plain": [
              "{'firebase trabajar en la nube': 'jesus tomas'}"
            ]
          },
          "execution_count": 9,
          "metadata": {},
          "output_type": "execute_result"
        }
      ],
      "source": [
        "libros"
      ]
    },
    {
      "cell_type": "code",
      "execution_count": 10,
      "metadata": {
        "id": "yKaV_DiuqmCZ"
      },
      "outputs": [],
      "source": [
        "libros['firebase trabajar en la nube']= 'tomas'"
      ]
    },
    {
      "cell_type": "code",
      "execution_count": 11,
      "metadata": {
        "colab": {
          "base_uri": "https://localhost:8080/"
        },
        "id": "LNq5ZyPqqrGp",
        "outputId": "763482be-4773-4695-c8fa-89589f1a3d70"
      },
      "outputs": [
        {
          "data": {
            "text/plain": [
              "{'firebase trabajar en la nube': 'tomas'}"
            ]
          },
          "execution_count": 11,
          "metadata": {},
          "output_type": "execute_result"
        }
      ],
      "source": [
        "libros"
      ]
    }
  ],
  "metadata": {
    "colab": {
      "provenance": []
    },
    "kernelspec": {
      "display_name": "Python 3",
      "name": "python3"
    },
    "language_info": {
      "name": "python"
    }
  },
  "nbformat": 4,
  "nbformat_minor": 0
}
